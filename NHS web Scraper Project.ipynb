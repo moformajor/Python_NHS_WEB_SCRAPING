{
 "cells": [
  {
   "cell_type": "code",
   "execution_count": 1,
   "id": "2d586859",
   "metadata": {},
   "outputs": [],
   "source": [
    "# Import libraries\n",
    "\n",
    "from bs4 import BeautifulSoup\n",
    "import requests\n",
    "import time\n",
    "import datetime\n",
    "\n",
    "import smtplib #sending emails to yourself"
   ]
  },
  {
   "cell_type": "code",
   "execution_count": 15,
   "id": "6af9b7b2",
   "metadata": {},
   "outputs": [
    {
     "name": "stdout",
     "output_type": "stream",
     "text": [
      "\n",
      "       1258 - IT Support Assistant (IT Service Desk)\n",
      "      \n",
      "\n",
      "       Barnsley Hospital NHS Foundation Trust\n",
      "      \n"
     ]
    }
   ],
   "source": [
    "#connect to the website\n",
    "\n",
    "URL = 'https://www.jobs.nhs.uk/candidate/jobadvert/C9188-24-0408?searchFormType=main&keyword=IT&language=en'\n",
    "# Headers - https://httpbin.org/get\n",
    "headers = {\"User-Agent\": \"Mozilla/5.0 (Windows NT 10.0; Win64; x64) AppleWebKit/537.36 (KHTML, like Gecko) Chrome/78.0.3904.108 Safari/537.36\", \"Accept-Encoding\":\"gzip, deflate\", \"Accept\":\"text/html,application/xhtml+xml,application/xml;q=0.9,*/*;q=0.8\", \"DNT\":\"1\",\"Connection\":\"close\", \"Upgrade-Insecure-Requests\":\"1\"}\n",
    "\n",
    "page = requests.get(URL, headers=headers)\n",
    "\n",
    "soup1 = BeautifulSoup(page.content, \"html.parser\")\n",
    "\n",
    "soup2 = BeautifulSoup(soup1.prettify(), \"html.parser\")\n",
    "\n",
    "Job_title = soup2.find(id='heading').get_text()\n",
    "\n",
    "Job_employer = soup2.find(id='employer_name').get_text()\n",
    "Job_description = soup2.find(id='job_description').get_text()\n",
    "#Job_closing_date = soup2.find(id='closing_date').get_text()\n",
    "\n",
    "\n",
    "\n",
    "print(Job_title)\n",
    "print(Job_employer)\n",
    "#print(Job_closing_date)\n",
    "\n",
    "#print(soup2)"
   ]
  },
  {
   "cell_type": "code",
   "execution_count": 3,
   "id": "99f98ffe",
   "metadata": {},
   "outputs": [
    {
     "name": "stdout",
     "output_type": "stream",
     "text": [
      "To Providing\r\n",
      "repair, maintenance of networking, telecommunications, desktop, virtual desktop\r\n",
      "and server systems, support and implementation for the Barnsley Hospital NHS\r\n",
      "1258 - IT Support Assistant (IT Service Desk)\n",
      "Barnsley Hospital NHS Foundation Trust\n",
      "2024-05-20\n"
     ]
    },
    {
     "data": {
      "text/plain": [
       "datetime.date"
      ]
     },
     "execution_count": 3,
     "metadata": {},
     "output_type": "execute_result"
    }
   ],
   "source": [
    "Job_description = Job_description.strip()[0:172]\n",
    "Job_closing_date = Job_closing_date.strip()[20:31]\n",
    "\n",
    "# coverting job closing date in string to date only\n",
    "from datetime import datetime\n",
    "Job_closing_date = datetime.strptime(Job_closing_date, '%d %B %Y').date()\n",
    "Job_employer = Job_employer.strip()\n",
    "Job_title = Job_title.strip()\n",
    "today = datetime.date.today()\n",
    "print(Job_description)\n",
    "print(Job_title)\n",
    "print(Job_employer)\n",
    "print(Job_closing_date)\n"
   ]
  },
  {
   "cell_type": "code",
   "execution_count": 16,
   "id": "e6c064ff",
   "metadata": {},
   "outputs": [
    {
     "ename": "NameError",
     "evalue": "name 'today' is not defined",
     "output_type": "error",
     "traceback": [
      "\u001b[1;31m---------------------------------------------------------------------------\u001b[0m",
      "\u001b[1;31mNameError\u001b[0m                                 Traceback (most recent call last)",
      "Input \u001b[1;32mIn [16]\u001b[0m, in \u001b[0;36m<cell line: 4>\u001b[1;34m()\u001b[0m\n\u001b[0;32m      1\u001b[0m \u001b[38;5;28;01mimport\u001b[39;00m \u001b[38;5;21;01mcsv\u001b[39;00m\n\u001b[0;32m      3\u001b[0m header \u001b[38;5;241m=\u001b[39m [\u001b[38;5;124m'\u001b[39m\u001b[38;5;124mJob_title\u001b[39m\u001b[38;5;124m'\u001b[39m, \u001b[38;5;124m'\u001b[39m\u001b[38;5;124mJob_description\u001b[39m\u001b[38;5;124m'\u001b[39m,\u001b[38;5;124m'\u001b[39m\u001b[38;5;124mJob_employer\u001b[39m\u001b[38;5;124m'\u001b[39m,\u001b[38;5;124m'\u001b[39m\u001b[38;5;124mJob_closing_date\u001b[39m\u001b[38;5;124m'\u001b[39m, \u001b[38;5;124m'\u001b[39m\u001b[38;5;124mDate\u001b[39m\u001b[38;5;124m'\u001b[39m]\n\u001b[1;32m----> 4\u001b[0m data \u001b[38;5;241m=\u001b[39m [Job_title, Job_description,Job_employer,Job_closing_date, \u001b[43mtoday\u001b[49m]\n\u001b[0;32m      6\u001b[0m \u001b[38;5;28;01mwith\u001b[39;00m \u001b[38;5;28mopen\u001b[39m (\u001b[38;5;124m'\u001b[39m\u001b[38;5;124mNHSWebScrapperDataset.csv\u001b[39m\u001b[38;5;124m'\u001b[39m, \u001b[38;5;124m'\u001b[39m\u001b[38;5;124mw\u001b[39m\u001b[38;5;124m'\u001b[39m, newline\u001b[38;5;241m=\u001b[39m\u001b[38;5;124m'\u001b[39m\u001b[38;5;124m'\u001b[39m, encoding\u001b[38;5;241m=\u001b[39m\u001b[38;5;124m'\u001b[39m\u001b[38;5;124mUTF8\u001b[39m\u001b[38;5;124m'\u001b[39m) \u001b[38;5;28;01mas\u001b[39;00m f:\n\u001b[0;32m      7\u001b[0m     writer \u001b[38;5;241m=\u001b[39m csv\u001b[38;5;241m.\u001b[39mwriter(f)\n",
      "\u001b[1;31mNameError\u001b[0m: name 'today' is not defined"
     ]
    }
   ],
   "source": [
    "import csv\n",
    "\n",
    "header = ['Job_title', 'Job_description','Job_employer','Job_closing_date', 'Date']\n",
    "data = [Job_title, Job_description,Job_employer,Job_closing_date, today]\n",
    "\n",
    "with open ('NHSWebScrapperDataset.csv', 'w', newline='', encoding='UTF8') as f:\n",
    "    writer = csv.writer(f)\n",
    "    writer.writerow(header)\n",
    "    writer.writerow(data)"
   ]
  },
  {
   "cell_type": "code",
   "execution_count": null,
   "id": "7b67f08e",
   "metadata": {},
   "outputs": [],
   "source": [
    "# a+ appends what ever was in the format \n",
    "with open ('NHSWebScrapperDataset.csv', 'a+', newline='', encoding='UTF8') as f:\n",
    "    writer = csv.writer(f)\n",
    "\n",
    "    writer.writerow(data)"
   ]
  },
  {
   "cell_type": "code",
   "execution_count": 4,
   "id": "8fbfff7e",
   "metadata": {},
   "outputs": [
    {
     "name": "stdout",
     "output_type": "stream",
     "text": [
      "                                       Job_title  \\\n",
      "0  1258 - IT Support Assistant (IT Service Desk)   \n",
      "1  1258 - IT Support Assistant (IT Service Desk)   \n",
      "2  1258 - IT Support Assistant (IT Service Desk)   \n",
      "3  1258 - IT Support Assistant (IT Service Desk)   \n",
      "4  1258 - IT Support Assistant (IT Service Desk)   \n",
      "5  1258 - IT Support Assistant (IT Service Desk)   \n",
      "6  1258 - IT Support Assistant (IT Service Desk)   \n",
      "\n",
      "                                     Job_description        Date  \n",
      "0  To Providing\\r\\nrepair, maintenance of network...  2024-05-21  \n",
      "1  To Providing\\r\\nrepair, maintenance of network...  2024-05-21  \n",
      "2  To Providing\\r\\nrepair, maintenance of network...  2024-05-21  \n",
      "3  To Providing\\r\\nrepair, maintenance of network...  2024-05-21  \n",
      "4  To Providing\\r\\nrepair, maintenance of network...  2024-05-21  \n",
      "5  To Providing\\r\\nrepair, maintenance of network...  2024-05-21  \n",
      "6  To Providing\\r\\nrepair, maintenance of network...  2024-05-21  \n"
     ]
    }
   ],
   "source": [
    "import pandas as pd\n",
    "\n",
    "df = pd.read_csv(r'C:\\Users\\Macetron 03\\NHSWebScrapperDataset.csv')\n",
    "\n",
    "print(df)"
   ]
  },
  {
   "cell_type": "code",
   "execution_count": 3,
   "id": "32447a05",
   "metadata": {},
   "outputs": [
    {
     "name": "stdout",
     "output_type": "stream",
     "text": [
      "Status Code: 200\n"
     ]
    }
   ],
   "source": [
    "# Automate the whole process each day\n",
    "\n",
    "from bs4 import BeautifulSoup\n",
    "import requests\n",
    "import os\n",
    "import datetime\n",
    "import csv\n",
    "import smtplib, ssl\n",
    "import time  # Missing import\n",
    "\n",
    "# Set your email password manually here (for testing only)\n",
    "EMAIL_PASSWORD = 'xxxxxxpasswordxxxxxxx'\n",
    "\n",
    "# Check Job function\n",
    "def check_Job():\n",
    "    # Connect to the web\n",
    "    URL = 'https://www.jobs.nhs.uk/candidate/jobadvert/C9188-24-0408?searchFormType=main&keyword=IT&language=en'\n",
    "    headers = {\n",
    "        \"User-Agent\": \"Mozilla/5.0 (Windows NT 10.0; Win64; x64) AppleWebKit/537.36 (KHTML, like Gecko) Chrome/78.0.3904.108 Safari/537.36\",\n",
    "        \"Accept-Encoding\": \"gzip, deflate\",\n",
    "        \"Accept\": \"text/html,application/xhtml+xml,application/xml;q=0.9,*/*;q=0.8\",\n",
    "        \"DNT\": \"1\",\n",
    "        \"Connection\": \"close\",\n",
    "        \"Upgrade-Insecure-Requests\": \"1\"\n",
    "    }\n",
    "    \n",
    "    # Get the whole page\n",
    "    page = requests.get(URL, headers=headers)\n",
    "    print(\"Status Code:\", page.status_code)\n",
    "    if page.status_code != 200:\n",
    "        print(\"Failed to retrieve the page\")\n",
    "        return None\n",
    "    \n",
    "    soup1 = BeautifulSoup(page.content, \"html.parser\")\n",
    "    soup2 = BeautifulSoup(soup1.prettify(), \"html.parser\")\n",
    "    \n",
    "    # Find and get specific data\n",
    "    Job_title = soup2.find(id='heading')\n",
    "    Job_employer = soup2.find(id='employer_name')\n",
    "    Job_description = soup2.find(id='job_description')\n",
    "    Job_closing_date = soup2.find(id='closing_date')\n",
    "    \n",
    "    # Ensure elements are found before trying to access their text\n",
    "    if Job_title:\n",
    "        Job_title = Job_title.get_text().strip()\n",
    "    else:\n",
    "        print(\"Job title not found\")\n",
    "        return None\n",
    "\n",
    "    if Job_employer:\n",
    "        Job_employer = Job_employer.get_text().strip()\n",
    "    else:\n",
    "        print(\"Job employer not found\")\n",
    "        return None\n",
    "\n",
    "    if Job_description:\n",
    "        Job_description = Job_description.get_text().strip()[0:172]\n",
    "    else:\n",
    "        print(\"Job description not found\")\n",
    "        return None\n",
    "\n",
    "    if Job_closing_date:\n",
    "        Job_closing_date = Job_closing_date.get_text().strip()[20:31]\n",
    "    else:\n",
    "        print(\"Job closing date not found\")\n",
    "        return None\n",
    "\n",
    "    # Converting job closing date in string to date only\n",
    "    from datetime import datetime\n",
    "    Job_closing_date = datetime.strptime(Job_closing_date, '%d %B %Y').date()\n",
    "    \n",
    "    # Get today's date\n",
    "    import datetime\n",
    "    today = datetime.date.today()\n",
    "    \n",
    "    # Get the header and data to write \n",
    "    header = ['Job_title', 'Job_description', 'Job_employer', 'Job_closing_date', 'Date']\n",
    "    data = [Job_title, Job_description, Job_employer, Job_closing_date, today]\n",
    "    with open('NHSWebScrapperDataset.csv', 'a+', newline='', encoding='UTF8') as f:\n",
    "        writer = csv.writer(f)\n",
    "        writer.writerow(data)\n",
    "        \n",
    "    if today < Job_closing_date:\n",
    "        send_mail1()\n",
    "    elif today == Job_closing_date:\n",
    "        send_mail2()\n",
    "        \n",
    "    # Return the number of days until the job closing date\n",
    "    return (Job_closing_date - today).days\n",
    "\n",
    "# Send mail function to remind you when the closing date is same as today's date or passed it\n",
    "def send_mail1():\n",
    "    server = smtplib.SMTP_SSL('smtp.gmail.com', 465)\n",
    "    server.ehlo()\n",
    "    server.login('testqwerty543210@gmail.com', EMAIL_PASSWORD)\n",
    "    \n",
    "    subject = \"UPDATE!!! The NHS Job you are interested in \"\n",
    "    body = \"Uzo, This is the moment we have been waiting for. Now is your last chance to apply for this Job at https://www.jobs.nhs.uk/candidate/jobadvert/C9163-1258E-05-24?keyword=IT&language=en . Hurry Up Uzo, Best Of Luck\"\n",
    "   \n",
    "    msg = f\"Subject: {subject}\\n\\n{body}\"\n",
    "    \n",
    "    server.sendmail(\n",
    "        'testqwerty543210@gmail.com',\n",
    "        'uzoumej@gmail.com',\n",
    "        msg\n",
    "    )\n",
    "    server.quit()\n",
    "\n",
    "def send_mail2():\n",
    "    server = smtplib.SMTP_SSL('smtp.gmail.com', 465)\n",
    "    server.ehlo()\n",
    "    server.login('testqwerty543210@gmail.com', EMAIL_PASSWORD)\n",
    "    \n",
    "    subject = \"UPDATE!!! The NHS Job you are interested in \"\n",
    "    body = \"Hi Uzo, The NHS Job at https://www.jobs.nhs.uk/candidate/jobadvert/C9163-1258E-05-24?keyword=IT&language=en has now expired, Please check if you got invited for the Job.\"\n",
    "   \n",
    "    msg = f\"Subject: {subject}\\n\\n{body}\"\n",
    "    \n",
    "    server.sendmail(\n",
    "        'testqwerty543210@gmail.com',\n",
    "        'uzoumej@gmail.com',\n",
    "        msg\n",
    "    )\n",
    "    server.quit()\n",
    "\n",
    "# Runs check_job after a set time and inputs data into your CSV\n",
    "while True:\n",
    "    days_until_closing = check_Job()\n",
    "    if days_until_closing is None or days_until_closing >= 2:\n",
    "        break\n",
    "    time.sleep(86400)\n"
   ]
  },
  {
   "cell_type": "code",
   "execution_count": null,
   "id": "cde8fda3",
   "metadata": {},
   "outputs": [],
   "source": []
  }
 ],
 "metadata": {
  "kernelspec": {
   "display_name": "Python 3 (ipykernel)",
   "language": "python",
   "name": "python3"
  },
  "language_info": {
   "codemirror_mode": {
    "name": "ipython",
    "version": 3
   },
   "file_extension": ".py",
   "mimetype": "text/x-python",
   "name": "python",
   "nbconvert_exporter": "python",
   "pygments_lexer": "ipython3",
   "version": "3.9.12"
  }
 },
 "nbformat": 4,
 "nbformat_minor": 5
}
